{
  "nbformat": 4,
  "nbformat_minor": 0,
  "metadata": {
    "colab": {
      "name": "Basics Part Deri.ipynb, Day 3, 6/11",
      "provenance": [],
      "authorship_tag": "ABX9TyOqGttSqgp1B++IlGRLrZPE",
      "include_colab_link": true
    },
    "kernelspec": {
      "name": "python3",
      "display_name": "Python 3"
    },
    "language_info": {
      "name": "python"
    }
  },
  "cells": [
    {
      "cell_type": "markdown",
      "metadata": {
        "id": "view-in-github",
        "colab_type": "text"
      },
      "source": [
        "<a href=\"https://colab.research.google.com/github/sefat22/Micro-Credential-22/blob/main/Basics_Part_Deri_ipynb%2C_Day_3%2C_6_11.ipynb\" target=\"_parent\"><img src=\"https://colab.research.google.com/assets/colab-badge.svg\" alt=\"Open In Colab\"/></a>"
      ]
    },
    {
      "cell_type": "markdown",
      "source": [
        "#Intro to Python part 3 \n",
        "\n",
        "#### Conditions and loops "
      ],
      "metadata": {
        "id": "IFKTezQZHN4q"
      }
    },
    {
      "cell_type": "markdown",
      "source": [
        "##Conditionals \n",
        "\n",
        "#IF...ELIF....Else Statements!!!"
      ],
      "metadata": {
        "id": "O2wZz8EXHa2s"
      }
    },
    {
      "cell_type": "code",
      "execution_count": null,
      "metadata": {
        "colab": {
          "base_uri": "https://localhost:8080/",
          "height": 35
        },
        "id": "m9w5X56tGygE",
        "outputId": "474253bd-3eb9-4b9a-ae5b-787cfa32f12f"
      },
      "outputs": [
        {
          "output_type": "execute_result",
          "data": {
            "text/plain": [
              "'\\nif(condition):\\n  do something \\n  '"
            ],
            "application/vnd.google.colaboratory.intrinsic+json": {
              "type": "string"
            }
          },
          "metadata": {},
          "execution_count": 1
        }
      ],
      "source": [
        "\"\"\"\n",
        "if(condition):\n",
        "  do something \n",
        "  \"\"\""
      ]
    },
    {
      "cell_type": "code",
      "source": [
        "if 3 > 2:\n",
        "  print(\"Right\") #prints out the quote if the condition meets"
      ],
      "metadata": {
        "colab": {
          "base_uri": "https://localhost:8080/"
        },
        "id": "20Zte3A3Hxq9",
        "outputId": "b8b2fc80-168b-4811-bc69-b6642b2f505d"
      },
      "execution_count": null,
      "outputs": [
        {
          "output_type": "stream",
          "name": "stdout",
          "text": [
            "Right\n"
          ]
        }
      ]
    },
    {
      "cell_type": "code",
      "source": [
        "if 4 > 7:\n",
        "  print(\"Right\")\n",
        "else:\n",
        "  print(\"Wrong\")"
      ],
      "metadata": {
        "colab": {
          "base_uri": "https://localhost:8080/"
        },
        "id": "lCNsbq6bH5Qz",
        "outputId": "6d9c4a78-94a1-4fd0-af3c-e15c5d7035ed"
      },
      "execution_count": null,
      "outputs": [
        {
          "output_type": "stream",
          "name": "stdout",
          "text": [
            "Wrong\n"
          ]
        }
      ]
    },
    {
      "cell_type": "code",
      "source": [
        "a = 3\n",
        "b = 5\n",
        "if a > b:\n",
        "  print(\"Yes, it is right!!!\")\n",
        "else:\n",
        "  print(\"Try again\")"
      ],
      "metadata": {
        "colab": {
          "base_uri": "https://localhost:8080/"
        },
        "id": "SFNsB-SyIKDs",
        "outputId": "82900733-2bc2-41a1-a78e-3e7227b88aec"
      },
      "execution_count": null,
      "outputs": [
        {
          "output_type": "stream",
          "name": "stdout",
          "text": [
            "Try again\n"
          ]
        }
      ]
    },
    {
      "cell_type": "code",
      "source": [
        "drink = \"Tea\"\n",
        "\n",
        "if drink == \"Coffee\":\n",
        "    print(\"Humanity runs on coffee\")\n",
        "else: \n",
        "    print(\"Where there is tea, there is hope!!!\")"
      ],
      "metadata": {
        "colab": {
          "base_uri": "https://localhost:8080/"
        },
        "id": "GI3wcC5kIiFQ",
        "outputId": "3a8f0bb0-1e62-44d4-c2b3-7d63d697f091"
      },
      "execution_count": null,
      "outputs": [
        {
          "output_type": "stream",
          "name": "stdout",
          "text": [
            "Where there is tea, there is hope!!!\n"
          ]
        }
      ]
    },
    {
      "cell_type": "code",
      "source": [
        " drink = \"Coke\"\n",
        "\n",
        "if drink == \"Coffee\":\n",
        "    print(\"Humanity runs on coffee\")\n",
        "elif drink == \"Water\":\n",
        "    print(\"Water is the soul of Earth!\")\n",
        "elif drink == \"Coke\":\n",
        "    print(\"Coke is the new fuel for the programmer!\")\n",
        "else:\n",
        "    print(\"Where there is tea, there is hope!\")    "
      ],
      "metadata": {
        "colab": {
          "base_uri": "https://localhost:8080/"
        },
        "id": "jG9Q46i-Ke16",
        "outputId": "3f32e7e2-e4d3-4790-ead2-0d916313167a"
      },
      "execution_count": null,
      "outputs": [
        {
          "output_type": "stream",
          "name": "stdout",
          "text": [
            "Coke is the new fuel for the programmer!\n"
          ]
        }
      ]
    },
    {
      "cell_type": "markdown",
      "source": [
        "#Loops !!\n",
        "\n",
        "For loop"
      ],
      "metadata": {
        "id": "fhvl4UBcLn5h"
      }
    },
    {
      "cell_type": "code",
      "source": [
        "\"\"\"For iterator in array:\n",
        "do smth \n",
        "\"\"\""
      ],
      "metadata": {
        "id": "kePaMCouMLgp"
      },
      "execution_count": null,
      "outputs": []
    },
    {
      "cell_type": "code",
      "source": [
        "my_list = [1, 2,3, 4, 5, 6, 7, 8, 9, 10] "
      ],
      "metadata": {
        "id": "0BcMmIEoLh9h"
      },
      "execution_count": null,
      "outputs": []
    },
    {
      "cell_type": "code",
      "source": [
        "for num in my_list:\n",
        "  print(num)"
      ],
      "metadata": {
        "colab": {
          "base_uri": "https://localhost:8080/"
        },
        "id": "sG6XvbvDL_WI",
        "outputId": "3b64c253-795a-44c2-931b-53b9035fc084"
      },
      "execution_count": null,
      "outputs": [
        {
          "output_type": "stream",
          "name": "stdout",
          "text": [
            "1\n",
            "2\n",
            "3\n",
            "4\n",
            "5\n",
            "6\n",
            "7\n",
            "8\n",
            "9\n",
            "10\n"
          ]
        }
      ]
    },
    {
      "cell_type": "code",
      "source": [
        "for i in my_list: #Even numbers\n",
        "  if i % 2 == 0:\n",
        "   print(i)\n"
      ],
      "metadata": {
        "colab": {
          "base_uri": "https://localhost:8080/"
        },
        "id": "mGJ0LIDUMDzM",
        "outputId": "eeef3e36-a642-42f1-8910-80a9142c4e22"
      },
      "execution_count": null,
      "outputs": [
        {
          "output_type": "stream",
          "name": "stdout",
          "text": [
            "2\n",
            "4\n",
            "6\n",
            "8\n",
            "10\n"
          ]
        }
      ]
    },
    {
      "cell_type": "code",
      "source": [
        "for i in my_list: #Odd numbers \n",
        "  if i % 2 != 0:\n",
        "   print(i)\n"
      ],
      "metadata": {
        "colab": {
          "base_uri": "https://localhost:8080/"
        },
        "id": "xO1GAbdxMyr6",
        "outputId": "723d2bf2-9599-4f7a-c5d0-996dd43231ef"
      },
      "execution_count": null,
      "outputs": [
        {
          "output_type": "stream",
          "name": "stdout",
          "text": [
            "1\n",
            "3\n",
            "5\n",
            "7\n",
            "9\n"
          ]
        }
      ]
    },
    {
      "cell_type": "code",
      "source": [
        "my_list = [1,2,3,4,5, 45, 6, 34, 980]\n",
        "list_sum = 0 \n",
        "\n",
        "for num in my_list:\n",
        "  list_sum = list_sum + num \n",
        "  print(list_sum)"
      ],
      "metadata": {
        "colab": {
          "base_uri": "https://localhost:8080/"
        },
        "id": "pp0b1U7BM6pt",
        "outputId": "8c597a57-42ac-4911-a2f0-94871690f761"
      },
      "execution_count": null,
      "outputs": [
        {
          "output_type": "stream",
          "name": "stdout",
          "text": [
            "1\n",
            "3\n",
            "6\n",
            "10\n",
            "15\n",
            "60\n",
            "66\n",
            "100\n",
            "1080\n"
          ]
        }
      ]
    },
    {
      "cell_type": "code",
      "source": [
        "my_string = \"hello world\"\n",
        "\n",
        "for x in my_string:\n",
        "    print(x)"
      ],
      "metadata": {
        "colab": {
          "base_uri": "https://localhost:8080/"
        },
        "id": "ophf2BB2NYUL",
        "outputId": "0150a223-97ac-4d08-ee34-7362aefbca1c"
      },
      "execution_count": null,
      "outputs": [
        {
          "output_type": "stream",
          "name": "stdout",
          "text": [
            "h\n",
            "e\n",
            "l\n",
            "l\n",
            "o\n",
            " \n",
            "w\n",
            "o\n",
            "r\n",
            "l\n",
            "d\n"
          ]
        }
      ]
    },
    {
      "cell_type": "code",
      "source": [
        "my_list = [(1,2), (3,4), (5,6)]\n",
        "len(my_list)"
      ],
      "metadata": {
        "colab": {
          "base_uri": "https://localhost:8080/"
        },
        "id": "rIPVu9w-OHGh",
        "outputId": "5632991f-c67e-480c-c26f-b193d2be6428"
      },
      "execution_count": null,
      "outputs": [
        {
          "output_type": "execute_result",
          "data": {
            "text/plain": [
              "3"
            ]
          },
          "metadata": {},
          "execution_count": 23
        }
      ]
    },
    {
      "cell_type": "code",
      "source": [
        "for tup in my_list:\n",
        "  print(tup)"
      ],
      "metadata": {
        "colab": {
          "base_uri": "https://localhost:8080/"
        },
        "id": "rQsIkH7hOXfR",
        "outputId": "75b5a63c-ac80-4b08-8661-5ca1c33ee18e"
      },
      "execution_count": null,
      "outputs": [
        {
          "output_type": "stream",
          "name": "stdout",
          "text": [
            "(1, 2)\n",
            "(3, 4)\n",
            "(5, 6)\n"
          ]
        }
      ]
    },
    {
      "cell_type": "code",
      "source": [
        "for a, b in my_list:\n",
        "  print(a,b)"
      ],
      "metadata": {
        "colab": {
          "base_uri": "https://localhost:8080/"
        },
        "id": "YxNN7lrAP5JO",
        "outputId": "81019bb8-955b-4ed5-8ff2-ad0c05bfe17f"
      },
      "execution_count": null,
      "outputs": [
        {
          "output_type": "stream",
          "name": "stdout",
          "text": [
            "1 2\n",
            "3 4\n",
            "5 6\n"
          ]
        }
      ]
    },
    {
      "cell_type": "code",
      "source": [
        "for a, b in my_list:\n",
        "  print(a)"
      ],
      "metadata": {
        "colab": {
          "base_uri": "https://localhost:8080/"
        },
        "id": "kH1a6tyaP_2n",
        "outputId": "da213a4b-8146-47a7-bc1f-53a682f6bf5b"
      },
      "execution_count": null,
      "outputs": [
        {
          "output_type": "stream",
          "name": "stdout",
          "text": [
            "1\n",
            "3\n",
            "5\n"
          ]
        }
      ]
    },
    {
      "cell_type": "code",
      "source": [
        "my_list = [(1,2,3),(4,5,6),(7,8,9)]"
      ],
      "metadata": {
        "id": "JbXn8WpwQGqy"
      },
      "execution_count": null,
      "outputs": []
    },
    {
      "cell_type": "code",
      "source": [
        "for a,b,c in my_list:\n",
        "  print(b,c)"
      ],
      "metadata": {
        "colab": {
          "base_uri": "https://localhost:8080/"
        },
        "id": "sVr3AeStQVM-",
        "outputId": "5f28ee52-292e-4eb7-968f-85496ce5b6c8"
      },
      "execution_count": null,
      "outputs": [
        {
          "output_type": "stream",
          "name": "stdout",
          "text": [
            "2 3\n",
            "5 6\n",
            "8 9\n"
          ]
        }
      ]
    },
    {
      "cell_type": "code",
      "source": [
        "my_dict = {\"k1\":1, \"k2\":2, \"k3\":3}"
      ],
      "metadata": {
        "id": "P0XZhtA5Qawb"
      },
      "execution_count": null,
      "outputs": []
    },
    {
      "cell_type": "code",
      "source": [
        "for i in my_dict:\n",
        "  print(i)"
      ],
      "metadata": {
        "colab": {
          "base_uri": "https://localhost:8080/"
        },
        "id": "N517mxQLQuXi",
        "outputId": "f3c1fb4e-6a14-405b-a89a-ca883cd5882b"
      },
      "execution_count": null,
      "outputs": [
        {
          "output_type": "stream",
          "name": "stdout",
          "text": [
            "k1\n",
            "k2\n",
            "k3\n"
          ]
        }
      ]
    },
    {
      "cell_type": "code",
      "source": [
        "my_dict.items()"
      ],
      "metadata": {
        "colab": {
          "base_uri": "https://localhost:8080/"
        },
        "id": "CXEAoWU_QznG",
        "outputId": "cf5e5bfd-a9ae-4696-9213-82baf40df873"
      },
      "execution_count": null,
      "outputs": [
        {
          "output_type": "execute_result",
          "data": {
            "text/plain": [
              "dict_items([('k1', 1), ('k2', 2), ('k3', 3)])"
            ]
          },
          "metadata": {},
          "execution_count": 31
        }
      ]
    },
    {
      "cell_type": "code",
      "source": [
        "for i in my_dict.items():\n",
        "  print(i)\n"
      ],
      "metadata": {
        "colab": {
          "base_uri": "https://localhost:8080/"
        },
        "id": "JHity3PuQ4ZC",
        "outputId": "d8ad9b6d-ed7a-484a-ee14-3c837c6fa09f"
      },
      "execution_count": null,
      "outputs": [
        {
          "output_type": "stream",
          "name": "stdout",
          "text": [
            "('k1', 1)\n",
            "('k2', 2)\n",
            "('k3', 3)\n"
          ]
        }
      ]
    },
    {
      "cell_type": "code",
      "source": [
        "for a,b in my_dict.items():\n",
        "  print(b)"
      ],
      "metadata": {
        "colab": {
          "base_uri": "https://localhost:8080/"
        },
        "id": "5kKtOk8SQ_oh",
        "outputId": "f4b4428d-91e9-4af4-8f62-ceb91033791a"
      },
      "execution_count": null,
      "outputs": [
        {
          "output_type": "stream",
          "name": "stdout",
          "text": [
            "1\n",
            "2\n",
            "3\n"
          ]
        }
      ]
    },
    {
      "cell_type": "code",
      "source": [
        "#how to define a for loop\n",
        "#for loop with \n",
        "#list \n",
        "#string \n",
        "#tuple \n",
        "#Dictionary "
      ],
      "metadata": {
        "id": "2TaAwt2rRF7K"
      },
      "execution_count": null,
      "outputs": []
    },
    {
      "cell_type": "markdown",
      "source": [
        "##While Loops !"
      ],
      "metadata": {
        "id": "HcJgbOOaR-N1"
      }
    },
    {
      "cell_type": "code",
      "source": [
        "i = 0 \n",
        "\n",
        "while i < 5:\n",
        "  print(i)\n",
        "  i = i + 1 "
      ],
      "metadata": {
        "colab": {
          "base_uri": "https://localhost:8080/"
        },
        "id": "kJJBpYm0SHSz",
        "outputId": "de8d68f2-e17a-4b0f-9208-03ff9eec0a16"
      },
      "execution_count": null,
      "outputs": [
        {
          "output_type": "stream",
          "name": "stdout",
          "text": [
            "0\n",
            "1\n",
            "2\n",
            "3\n",
            "4\n"
          ]
        }
      ]
    },
    {
      "cell_type": "code",
      "source": [
        "i = 0 \n",
        "\n",
        "while i < 5:\n",
        "  print(i)\n",
        "  i = i + 1 \n",
        "else:\n",
        "  print(\"i is not less than 5\")\n",
        "  "
      ],
      "metadata": {
        "colab": {
          "base_uri": "https://localhost:8080/"
        },
        "id": "VzfPS60XSVXC",
        "outputId": "3d8638a9-ebd7-46ea-ee26-659a035bee33"
      },
      "execution_count": null,
      "outputs": [
        {
          "output_type": "stream",
          "name": "stdout",
          "text": [
            "0\n",
            "1\n",
            "2\n",
            "3\n",
            "4\n",
            "i is not less than 5\n"
          ]
        }
      ]
    },
    {
      "cell_type": "code",
      "source": [
        "i = 10 \n",
        "\n",
        "while i < 5:\n",
        "  print(i)\n",
        "  i = i + 1 \n",
        "else:\n",
        "  print(\"i is not less than 5\") #the condition does not run "
      ],
      "metadata": {
        "colab": {
          "base_uri": "https://localhost:8080/"
        },
        "id": "6d2xiMKqSssS",
        "outputId": "1bdb3b0c-665d-4094-c0af-5d461d2d32f4"
      },
      "execution_count": null,
      "outputs": [
        {
          "output_type": "stream",
          "name": "stdout",
          "text": [
            "i is not less than 5\n"
          ]
        }
      ]
    },
    {
      "cell_type": "markdown",
      "source": [
        "###Pass, Break, Continue "
      ],
      "metadata": {
        "id": "DsjRwIuRTFNe"
      }
    },
    {
      "cell_type": "code",
      "source": [
        "l = [1,2,3,4,5]\n",
        "\n",
        "for items in l:\n",
        "  #comment \n",
        "  pass \n",
        "  print( \"i will work after !!!\") #.   ..............................................................."
      ],
      "metadata": {
        "colab": {
          "base_uri": "https://localhost:8080/"
        },
        "id": "9ZaUAo-GS4WI",
        "outputId": "af4200fd-d19a-4fb8-dcf2-f60be86d54ee"
      },
      "execution_count": null,
      "outputs": [
        {
          "output_type": "stream",
          "name": "stdout",
          "text": [
            "i will work after !!!\n",
            "i will work after !!!\n",
            "i will work after !!!\n",
            "i will work after !!!\n",
            "i will work after !!!\n"
          ]
        }
      ]
    },
    {
      "cell_type": "code",
      "source": [
        "my_string = \"Hello world\"\n",
        "\n",
        "for letters in my_string:\n",
        "  if letters == \"r\":\n",
        "    break\n",
        "    print(letters)"
      ],
      "metadata": {
        "id": "GnwbG7c8Tdj5"
      },
      "execution_count": null,
      "outputs": []
    },
    {
      "cell_type": "code",
      "source": [
        "i = 0 \n",
        "while i < 5:\n",
        "  if i == 3:\n",
        "    break \n",
        "    print(i)\n",
        "    i = i + 1 "
      ],
      "metadata": {
        "colab": {
          "base_uri": "https://localhost:8080/",
          "height": 236
        },
        "id": "lDmawWqcT4CC",
        "outputId": "36b8683b-b83c-41ef-940c-6e51ef351a0c"
      },
      "execution_count": null,
      "outputs": [
        {
          "output_type": "error",
          "ename": "KeyboardInterrupt",
          "evalue": "ignored",
          "traceback": [
            "\u001b[0;31m---------------------------------------------------------------------------\u001b[0m",
            "\u001b[0;31mKeyboardInterrupt\u001b[0m                         Traceback (most recent call last)",
            "\u001b[0;32m<ipython-input-42-ffbdf848282a>\u001b[0m in \u001b[0;36m<module>\u001b[0;34m()\u001b[0m\n\u001b[1;32m      1\u001b[0m \u001b[0mi\u001b[0m \u001b[0;34m=\u001b[0m \u001b[0;36m0\u001b[0m\u001b[0;34m\u001b[0m\u001b[0;34m\u001b[0m\u001b[0m\n\u001b[0;32m----> 2\u001b[0;31m \u001b[0;32mwhile\u001b[0m \u001b[0mi\u001b[0m \u001b[0;34m<\u001b[0m \u001b[0;36m5\u001b[0m\u001b[0;34m:\u001b[0m\u001b[0;34m\u001b[0m\u001b[0;34m\u001b[0m\u001b[0m\n\u001b[0m\u001b[1;32m      3\u001b[0m   \u001b[0;32mif\u001b[0m \u001b[0mi\u001b[0m \u001b[0;34m==\u001b[0m \u001b[0;36m3\u001b[0m\u001b[0;34m:\u001b[0m\u001b[0;34m\u001b[0m\u001b[0;34m\u001b[0m\u001b[0m\n\u001b[1;32m      4\u001b[0m     \u001b[0;32mbreak\u001b[0m\u001b[0;34m\u001b[0m\u001b[0;34m\u001b[0m\u001b[0m\n\u001b[1;32m      5\u001b[0m     \u001b[0mprint\u001b[0m\u001b[0;34m(\u001b[0m\u001b[0mi\u001b[0m\u001b[0;34m)\u001b[0m\u001b[0;34m\u001b[0m\u001b[0;34m\u001b[0m\u001b[0m\n",
            "\u001b[0;31mKeyboardInterrupt\u001b[0m: "
          ]
        }
      ]
    },
    {
      "cell_type": "markdown",
      "source": [
        "##Most used built - in functions in Python "
      ],
      "metadata": {
        "id": "ZfCpfA14Unl9"
      }
    },
    {
      "cell_type": "markdown",
      "source": [
        "####1) Range Function "
      ],
      "metadata": {
        "id": "TJNALiHhUzcn"
      }
    },
    {
      "cell_type": "code",
      "source": [
        "for num in range (10): #initialize the beginning, or starts form 0 \n",
        "  print(num)"
      ],
      "metadata": {
        "colab": {
          "base_uri": "https://localhost:8080/"
        },
        "id": "e0E-gdEKUO4j",
        "outputId": "3e9860f1-f681-4a4d-e24b-28f913f3d679"
      },
      "execution_count": null,
      "outputs": [
        {
          "output_type": "stream",
          "name": "stdout",
          "text": [
            "0\n",
            "1\n",
            "2\n",
            "3\n",
            "4\n",
            "5\n",
            "6\n",
            "7\n",
            "8\n",
            "9\n"
          ]
        }
      ]
    },
    {
      "cell_type": "code",
      "source": [
        "for num in range (3, 10): #initialize the beginning, or starts form 0 \n",
        "  print(num)"
      ],
      "metadata": {
        "colab": {
          "base_uri": "https://localhost:8080/"
        },
        "id": "iJQvSsBhU81D",
        "outputId": "2a273303-7f13-4f0a-eaad-a0fd85562cac"
      },
      "execution_count": null,
      "outputs": [
        {
          "output_type": "stream",
          "name": "stdout",
          "text": [
            "3\n",
            "4\n",
            "5\n",
            "6\n",
            "7\n",
            "8\n",
            "9\n"
          ]
        }
      ]
    },
    {
      "cell_type": "code",
      "source": [
        "for num in range (0, 11, 2):\n",
        "  print(num)"
      ],
      "metadata": {
        "colab": {
          "base_uri": "https://localhost:8080/"
        },
        "id": "s2hYmIH4VIv5",
        "outputId": "e07ebc38-0b60-49c7-ded6-a2c0d7adb408"
      },
      "execution_count": null,
      "outputs": [
        {
          "output_type": "stream",
          "name": "stdout",
          "text": [
            "0\n",
            "2\n",
            "4\n",
            "6\n",
            "8\n",
            "10\n"
          ]
        }
      ]
    },
    {
      "cell_type": "code",
      "source": [
        "my_list = [1,2,3,4,5,6,7,8,9,10]\n",
        "range (10)\n",
        "list(range(10))\n",
        "list(range(1,11))"
      ],
      "metadata": {
        "colab": {
          "base_uri": "https://localhost:8080/"
        },
        "id": "kjBgn7LzVRgT",
        "outputId": "40e0dcff-d897-43b4-c201-7a706bdeb819"
      },
      "execution_count": null,
      "outputs": [
        {
          "output_type": "execute_result",
          "data": {
            "text/plain": [
              "[1, 2, 3, 4, 5, 6, 7, 8, 9, 10]"
            ]
          },
          "metadata": {},
          "execution_count": 46
        }
      ]
    },
    {
      "cell_type": "markdown",
      "source": [
        "###2) Enumerate \n",
        "\n",
        "####It gives us an index count and object itself "
      ],
      "metadata": {
        "id": "GUHFe64eVn6F"
      }
    },
    {
      "cell_type": "code",
      "source": [
        "for items in enumerate(word):\n",
        " print()"
      ],
      "metadata": {
        "id": "nkOsghf7VjvM"
      },
      "execution_count": null,
      "outputs": []
    },
    {
      "cell_type": "markdown",
      "source": [
        "###3)Zip "
      ],
      "metadata": {
        "id": "sf0U8BmBWPI-"
      }
    },
    {
      "cell_type": "code",
      "source": [
        "list1 = [1, 2, 3, 4, 5]\n",
        "list2 = [\"a\", \"b\", \"c\", \"d\", \"e\"]\n",
        "list3 = [\"a\", \"b\", \"d\"]"
      ],
      "metadata": {
        "id": "SGbJ_mSeWTo_"
      },
      "execution_count": null,
      "outputs": []
    },
    {
      "cell_type": "code",
      "source": [
        "list4 = zip(list1, list2):\n",
        " \n",
        "  print(items)"
      ],
      "metadata": {
        "colab": {
          "base_uri": "https://localhost:8080/",
          "height": 131
        },
        "id": "FZwy099iWj9n",
        "outputId": "cb0c0cf5-4d24-4cf8-c7b0-875a2ec8e4f1"
      },
      "execution_count": null,
      "outputs": [
        {
          "output_type": "error",
          "ename": "SyntaxError",
          "evalue": "ignored",
          "traceback": [
            "\u001b[0;36m  File \u001b[0;32m\"<ipython-input-48-0f2aa9114e9d>\"\u001b[0;36m, line \u001b[0;32m1\u001b[0m\n\u001b[0;31m    list4 = zip(list1, list2):\u001b[0m\n\u001b[0m                             ^\u001b[0m\n\u001b[0;31mSyntaxError\u001b[0m\u001b[0;31m:\u001b[0m invalid syntax\n"
          ]
        }
      ]
    },
    {
      "cell_type": "code",
      "source": [
        ""
      ],
      "metadata": {
        "id": "ADbIBGWzWuO1"
      },
      "execution_count": null,
      "outputs": []
    }
  ]
}