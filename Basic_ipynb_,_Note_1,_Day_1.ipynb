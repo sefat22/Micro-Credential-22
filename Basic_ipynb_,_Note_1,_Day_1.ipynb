{
  "nbformat": 4,
  "nbformat_minor": 0,
  "metadata": {
    "colab": {
      "name": "Basic.ipynb , Note 1, Day 1 ",
      "provenance": [],
      "collapsed_sections": [],
      "authorship_tag": "ABX9TyOrmNKvZzCZ9ZxC/IOT35ig",
      "include_colab_link": true
    },
    "kernelspec": {
      "name": "python3",
      "display_name": "Python 3"
    },
    "language_info": {
      "name": "python"
    }
  },
  "cells": [
    {
      "cell_type": "markdown",
      "metadata": {
        "id": "view-in-github",
        "colab_type": "text"
      },
      "source": [
        "<a href=\"https://colab.research.google.com/github/sefat22/Micro-Credential-22/blob/main/Basic_ipynb_%2C_Note_1%2C_Day_1.ipynb\" target=\"_parent\"><img src=\"https://colab.research.google.com/assets/colab-badge.svg\" alt=\"Open In Colab\"/></a>"
      ]
    },
    {
      "cell_type": "markdown",
      "source": [
        "#Basic Notebook "
      ],
      "metadata": {
        "id": "LpikRB2tdWHD"
      }
    },
    {
      "cell_type": "code",
      "execution_count": null,
      "metadata": {
        "colab": {
          "base_uri": "https://localhost:8080/"
        },
        "id": "gkhEn3eDZfHY",
        "outputId": "d91098f8-b463-4d81-94ad-de4a9b947e92"
      },
      "outputs": [
        {
          "output_type": "stream",
          "name": "stdout",
          "text": [
            "Hi there\n"
          ]
        }
      ],
      "source": [
        " print(\"Hi there\") \n",
        " #print function writes whatever I want to execute. "
      ]
    },
    {
      "cell_type": "code",
      "source": [
        "import this "
      ],
      "metadata": {
        "colab": {
          "base_uri": "https://localhost:8080/"
        },
        "id": "gJlI6W0ja9DR",
        "outputId": "053f2b45-e038-40c1-cad7-1edf943acce1"
      },
      "execution_count": null,
      "outputs": [
        {
          "output_type": "stream",
          "name": "stdout",
          "text": [
            "The Zen of Python, by Tim Peters\n",
            "\n",
            "Beautiful is better than ugly.\n",
            "Explicit is better than implicit.\n",
            "Simple is better than complex.\n",
            "Complex is better than complicated.\n",
            "Flat is better than nested.\n",
            "Sparse is better than dense.\n",
            "Readability counts.\n",
            "Special cases aren't special enough to break the rules.\n",
            "Although practicality beats purity.\n",
            "Errors should never pass silently.\n",
            "Unless explicitly silenced.\n",
            "In the face of ambiguity, refuse the temptation to guess.\n",
            "There should be one-- and preferably only one --obvious way to do it.\n",
            "Although that way may not be obvious at first unless you're Dutch.\n",
            "Now is better than never.\n",
            "Although never is often better than *right* now.\n",
            "If the implementation is hard to explain, it's a bad idea.\n",
            "If the implementation is easy to explain, it may be a good idea.\n",
            "Namespaces are one honking great idea -- let's do more of those!\n"
          ]
        }
      ]
    },
    {
      "cell_type": "markdown",
      "source": [
        "#Genghis rules of programming \n",
        "\n",
        "###Read the documentation \n",
        "###Practice \n",
        "###StackOverFlow \n",
        "###Genghis is Never Wrong \n",
        "###There is no spoon! The Matrix movie. The problems I see ahead of me is not real. It is what i am making it to be. "
      ],
      "metadata": {
        "id": "FJ2sKI0WfDW7"
      }
    },
    {
      "cell_type": "code",
      "source": [
        "print(\"Hello World!\") #Inside the parenthesis of print fiunction, it need s a quote if it's a string. "
      ],
      "metadata": {
        "colab": {
          "base_uri": "https://localhost:8080/"
        },
        "id": "ssY7AZnVrC3L",
        "outputId": "49fb3baa-408a-4265-ffaf-f64b46419734"
      },
      "execution_count": null,
      "outputs": [
        {
          "output_type": "stream",
          "name": "stdout",
          "text": [
            "Hello World!\n"
          ]
        }
      ]
    },
    {
      "cell_type": "code",
      "source": [
        "print(\"Hi there 'Sefat'\") #quote inside a quote, needs a double quote. "
      ],
      "metadata": {
        "colab": {
          "base_uri": "https://localhost:8080/"
        },
        "id": "RuwI42cfrGv5",
        "outputId": "c55e53a3-6b17-453f-feec-15781cf60ada"
      },
      "execution_count": null,
      "outputs": [
        {
          "output_type": "stream",
          "name": "stdout",
          "text": [
            "Hi there 'Sefat'\n"
          ]
        }
      ]
    },
    {
      "cell_type": "code",
      "source": [
        "#this is a comment \n",
        "print('This')"
      ],
      "metadata": {
        "colab": {
          "base_uri": "https://localhost:8080/"
        },
        "id": "YszwdK6ZrUN7",
        "outputId": "4cad72c5-0203-439d-e5db-e3830a5202ff"
      },
      "execution_count": null,
      "outputs": [
        {
          "output_type": "stream",
          "name": "stdout",
          "text": [
            "This\n"
          ]
        }
      ]
    },
    {
      "cell_type": "code",
      "source": [
        "\"\"\" this \n",
        "is a  \n",
        "multiline comment\"\"\"\n",
        "print(\"this\") # Multiline comment. 3 quotes to start, 3 quotes to end. "
      ],
      "metadata": {
        "colab": {
          "base_uri": "https://localhost:8080/"
        },
        "id": "fjuk7AkvrgE8",
        "outputId": "50580c0f-5413-4bfe-d245-264c336035af"
      },
      "execution_count": null,
      "outputs": [
        {
          "output_type": "stream",
          "name": "stdout",
          "text": [
            "this\n"
          ]
        }
      ]
    },
    {
      "cell_type": "code",
      "source": [
        "3*9 #Multiplication "
      ],
      "metadata": {
        "colab": {
          "base_uri": "https://localhost:8080/"
        },
        "id": "P0mUfqrHr8GX",
        "outputId": "894205a8-f428-4dd0-a609-d8253b57f100"
      },
      "execution_count": null,
      "outputs": [
        {
          "output_type": "execute_result",
          "data": {
            "text/plain": [
              "27"
            ]
          },
          "metadata": {},
          "execution_count": 10
        }
      ]
    },
    {
      "cell_type": "code",
      "source": [
        "3**9 #Power function "
      ],
      "metadata": {
        "colab": {
          "base_uri": "https://localhost:8080/"
        },
        "id": "ymM3CxrTsOxL",
        "outputId": "b5517470-5c9e-4d5e-9c3c-8a02ed591c8c"
      },
      "execution_count": null,
      "outputs": [
        {
          "output_type": "execute_result",
          "data": {
            "text/plain": [
              "19683"
            ]
          },
          "metadata": {},
          "execution_count": 11
        }
      ]
    },
    {
      "cell_type": "code",
      "source": [
        ""
      ],
      "metadata": {
        "id": "_AVhNOhmsQHG"
      },
      "execution_count": null,
      "outputs": []
    },
    {
      "cell_type": "markdown",
      "source": [
        "##Variables "
      ],
      "metadata": {
        "id": "1YxAJemdsVtZ"
      }
    },
    {
      "cell_type": "code",
      "source": [
        "car = \"volvo\" #Assigning a value to use later times in the code \n",
        "type(car) # Type function tells the kind of value it is, is it string, number, float or boolean. "
      ],
      "metadata": {
        "colab": {
          "base_uri": "https://localhost:8080/"
        },
        "id": "gjWd4pPPscHB",
        "outputId": "a9ccf53f-1633-4829-9aa7-5f9f7e7680d5"
      },
      "execution_count": null,
      "outputs": [
        {
          "output_type": "execute_result",
          "data": {
            "text/plain": [
              "str"
            ]
          },
          "metadata": {},
          "execution_count": 12
        }
      ]
    },
    {
      "cell_type": "code",
      "source": [
        "Car = 4 \n",
        "type(Car)"
      ],
      "metadata": {
        "colab": {
          "base_uri": "https://localhost:8080/"
        },
        "id": "P_d5yfjctwtr",
        "outputId": "88d12f3c-82cd-4e1a-f075-f8f760a63079"
      },
      "execution_count": null,
      "outputs": [
        {
          "output_type": "execute_result",
          "data": {
            "text/plain": [
              "int"
            ]
          },
          "metadata": {},
          "execution_count": 14
        }
      ]
    },
    {
      "cell_type": "code",
      "source": [
        "_car = 2.4 \n",
        "type(_car)"
      ],
      "metadata": {
        "colab": {
          "base_uri": "https://localhost:8080/"
        },
        "id": "bFl_2i-Ft3zV",
        "outputId": "0c57ebda-fb63-4ac9-d4eb-d7cf4b5f89bc"
      },
      "execution_count": null,
      "outputs": [
        {
          "output_type": "execute_result",
          "data": {
            "text/plain": [
              "float"
            ]
          },
          "metadata": {},
          "execution_count": 15
        }
      ]
    },
    {
      "cell_type": "code",
      "source": [
        "num = 23\n",
        "num2 = 45 \n",
        "num3 = 4.3  "
      ],
      "metadata": {
        "id": "0YsxOSH4uDgj"
      },
      "execution_count": null,
      "outputs": []
    },
    {
      "cell_type": "code",
      "source": [
        ""
      ],
      "metadata": {
        "id": "RI-sHhq6uoXB"
      },
      "execution_count": null,
      "outputs": []
    },
    {
      "cell_type": "markdown",
      "source": [
        "##The rules to define the variables##\n",
        "\n",
        "##### 1) Must start with a letter or underscore \n",
        "##### 2) consistst of letters, number s and unfderscores but does not start with a number \n",
        "##### 3) variables names are case sensetive "
      ],
      "metadata": {
        "id": "tC1ngC5NupxV"
      }
    },
    {
      "cell_type": "markdown",
      "source": [
        "#Comparision Operators "
      ],
      "metadata": {
        "id": "7LKy22VCvYhn"
      }
    },
    {
      "cell_type": "code",
      "source": [
        "5==5 # The == sign means both numbers is equal to each other, and the statement in boolean value is true. \n"
      ],
      "metadata": {
        "colab": {
          "base_uri": "https://localhost:8080/"
        },
        "id": "GIAZgq9_vh7_",
        "outputId": "4dd059e7-c2cc-41fe-b152-d735fb65ceb1"
      },
      "execution_count": null,
      "outputs": [
        {
          "output_type": "execute_result",
          "data": {
            "text/plain": [
              "True"
            ]
          },
          "metadata": {},
          "execution_count": 18
        }
      ]
    },
    {
      "cell_type": "code",
      "source": [
        "\"hello\"==\"hello\" # the == sign represents the equal state of the code and the boolean value is ture. "
      ],
      "metadata": {
        "colab": {
          "base_uri": "https://localhost:8080/"
        },
        "id": "okaP4zjavmhG",
        "outputId": "e5825679-9a0b-4a23-e042-95fb5917dbf0"
      },
      "execution_count": null,
      "outputs": [
        {
          "output_type": "execute_result",
          "data": {
            "text/plain": [
              "True"
            ]
          },
          "metadata": {},
          "execution_count": 19
        }
      ]
    },
    {
      "cell_type": "code",
      "source": [
        "7!= 5 #.sign != means it is not equal. "
      ],
      "metadata": {
        "colab": {
          "base_uri": "https://localhost:8080/"
        },
        "id": "hE56WkUAvuhH",
        "outputId": "0deebef6-63c6-4780-8f1e-3a90a13ac89c"
      },
      "execution_count": null,
      "outputs": [
        {
          "output_type": "execute_result",
          "data": {
            "text/plain": [
              "True"
            ]
          },
          "metadata": {},
          "execution_count": 20
        }
      ]
    },
    {
      "cell_type": "code",
      "source": [
        "4 != 4 # not equal "
      ],
      "metadata": {
        "colab": {
          "base_uri": "https://localhost:8080/"
        },
        "id": "bKpS5CmovydZ",
        "outputId": "98d5baaa-ae4c-42c6-dc69-575589ede427"
      },
      "execution_count": null,
      "outputs": [
        {
          "output_type": "execute_result",
          "data": {
            "text/plain": [
              "False"
            ]
          },
          "metadata": {},
          "execution_count": 21
        }
      ]
    },
    {
      "cell_type": "code",
      "source": [
        "25 >= 25"
      ],
      "metadata": {
        "colab": {
          "base_uri": "https://localhost:8080/"
        },
        "id": "vK_GA5ZKv2lb",
        "outputId": "54d311d5-7863-47a4-d6fe-f03b6d043fb5"
      },
      "execution_count": null,
      "outputs": [
        {
          "output_type": "execute_result",
          "data": {
            "text/plain": [
              "True"
            ]
          },
          "metadata": {},
          "execution_count": 22
        }
      ]
    },
    {
      "cell_type": "code",
      "source": [
        ""
      ],
      "metadata": {
        "id": "pUmJzGN8wdr1"
      },
      "execution_count": null,
      "outputs": []
    },
    {
      "cell_type": "markdown",
      "source": [
        "#logical operators "
      ],
      "metadata": {
        "id": "OmeDy2Am8PCn"
      }
    },
    {
      "cell_type": "code",
      "source": [
        "3 > 2 > 1 # The < and > signs are operators and measures the value "
      ],
      "metadata": {
        "colab": {
          "base_uri": "https://localhost:8080/"
        },
        "id": "qQ7nNoL88Z6M",
        "outputId": "144f4398-b174-4be4-ca33-5ddd3e3dfd88"
      },
      "execution_count": null,
      "outputs": [
        {
          "output_type": "execute_result",
          "data": {
            "text/plain": [
              "True"
            ]
          },
          "metadata": {},
          "execution_count": 23
        }
      ]
    },
    {
      "cell_type": "code",
      "source": [
        "3 > 2 < 1 "
      ],
      "metadata": {
        "colab": {
          "base_uri": "https://localhost:8080/"
        },
        "id": "gmxCBKzn8lmX",
        "outputId": "e0a08643-e79e-4186-c3b0-ab27c6cc59f1"
      },
      "execution_count": null,
      "outputs": [
        {
          "output_type": "execute_result",
          "data": {
            "text/plain": [
              "False"
            ]
          },
          "metadata": {},
          "execution_count": 24
        }
      ]
    },
    {
      "cell_type": "code",
      "source": [
        "3 > 2 and 2 > 1 # AND OPERATOR: Truth table. The boolean value "
      ],
      "metadata": {
        "colab": {
          "base_uri": "https://localhost:8080/"
        },
        "id": "JWdcdg8N8qty",
        "outputId": "6464638a-7ce6-4f84-df66-4ad4ad8c6020"
      },
      "execution_count": null,
      "outputs": [
        {
          "output_type": "execute_result",
          "data": {
            "text/plain": [
              "True"
            ]
          },
          "metadata": {},
          "execution_count": 26
        }
      ]
    },
    {
      "cell_type": "code",
      "source": [
        "3 > 2 and 2 < 1 "
      ],
      "metadata": {
        "colab": {
          "base_uri": "https://localhost:8080/"
        },
        "id": "aE7jqHKr80AS",
        "outputId": "cdfaad9a-cb24-4c80-bd93-ac146dc54f93"
      },
      "execution_count": null,
      "outputs": [
        {
          "output_type": "execute_result",
          "data": {
            "text/plain": [
              "False"
            ]
          },
          "metadata": {},
          "execution_count": 27
        }
      ]
    },
    {
      "cell_type": "code",
      "source": [
        "3 > 2 or 2 > 1"
      ],
      "metadata": {
        "colab": {
          "base_uri": "https://localhost:8080/"
        },
        "id": "1IxUkYa092EE",
        "outputId": "f3ed2058-f1e6-444c-ad59-26db043ec141"
      },
      "execution_count": null,
      "outputs": [
        {
          "output_type": "execute_result",
          "data": {
            "text/plain": [
              "True"
            ]
          },
          "metadata": {},
          "execution_count": 28
        }
      ]
    },
    {
      "cell_type": "code",
      "source": [
        "3 > 2 or 2 < 1"
      ],
      "metadata": {
        "colab": {
          "base_uri": "https://localhost:8080/"
        },
        "id": "PrUbRby_9-qV",
        "outputId": "206c3fe6-c1ad-4da9-956d-3e684a0b5c28"
      },
      "execution_count": null,
      "outputs": [
        {
          "output_type": "execute_result",
          "data": {
            "text/plain": [
              "True"
            ]
          },
          "metadata": {},
          "execution_count": 29
        }
      ]
    },
    {
      "cell_type": "code",
      "source": [
        "not (5>3)"
      ],
      "metadata": {
        "colab": {
          "base_uri": "https://localhost:8080/"
        },
        "id": "Jl9CIW7s-Dce",
        "outputId": "91588180-605d-460a-cead-7bdf3d066003"
      },
      "execution_count": null,
      "outputs": [
        {
          "output_type": "execute_result",
          "data": {
            "text/plain": [
              "False"
            ]
          },
          "metadata": {},
          "execution_count": 30
        }
      ]
    },
    {
      "cell_type": "code",
      "source": [
        ""
      ],
      "metadata": {
        "id": "4eXgOEPk-YBo"
      },
      "execution_count": null,
      "outputs": []
    }
  ]
}